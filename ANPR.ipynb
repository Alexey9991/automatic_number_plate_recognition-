{
 "cells": [
  {
   "cell_type": "code",
   "execution_count": 7,
   "metadata": {},
   "outputs": [
    {
     "name": "stdout",
     "output_type": "stream",
     "text": [
      "Defaulting to user installation because normal site-packages is not writeable\n",
      "Collecting easyocr\n",
      "  Downloading easyocr-1.7.1-py3-none-any.whl (2.9 MB)\n",
      "\u001b[K     |████████████████████████████████| 2.9 MB 2.2 MB/s eta 0:00:01\n",
      "\u001b[?25hRequirement already satisfied: scikit-image in /Users/alexeyyakushev/Library/Python/3.9/lib/python/site-packages (from easyocr) (0.22.0)\n",
      "Collecting ninja\n",
      "  Downloading ninja-1.11.1.1-py2.py3-none-macosx_10_9_universal2.macosx_10_9_x86_64.macosx_11_0_arm64.macosx_11_0_universal2.whl (270 kB)\n",
      "\u001b[K     |████████████████████████████████| 270 kB 4.2 MB/s eta 0:00:01\n",
      "\u001b[?25hRequirement already satisfied: scipy in /Users/alexeyyakushev/Library/Python/3.9/lib/python/site-packages (from easyocr) (1.11.4)\n",
      "Requirement already satisfied: numpy in /Users/alexeyyakushev/Library/Python/3.9/lib/python/site-packages (from easyocr) (1.26.3)\n",
      "Requirement already satisfied: Pillow in /Users/alexeyyakushev/Library/Python/3.9/lib/python/site-packages (from easyocr) (10.2.0)\n",
      "Requirement already satisfied: PyYAML in /Users/alexeyyakushev/Library/Python/3.9/lib/python/site-packages (from easyocr) (6.0.1)\n",
      "Requirement already satisfied: pyclipper in /Users/alexeyyakushev/Library/Python/3.9/lib/python/site-packages (from easyocr) (1.3.0.post5)\n",
      "Collecting python-bidi\n",
      "  Downloading python_bidi-0.4.2-py2.py3-none-any.whl (30 kB)\n",
      "Requirement already satisfied: torchvision>=0.5 in /Users/alexeyyakushev/Library/Python/3.9/lib/python/site-packages (from easyocr) (0.16.2)\n",
      "Collecting opencv-python-headless\n",
      "  Downloading opencv_python_headless-4.9.0.80-cp37-abi3-macosx_11_0_arm64.whl (35.4 MB)\n",
      "\u001b[K     |████████████████████████████████| 35.4 MB 9.6 MB/s eta 0:00:011\n",
      "\u001b[?25hRequirement already satisfied: Shapely in /Users/alexeyyakushev/Library/Python/3.9/lib/python/site-packages (from easyocr) (2.0.2)\n",
      "Requirement already satisfied: torch in /Users/alexeyyakushev/Library/Python/3.9/lib/python/site-packages (from easyocr) (2.1.2)\n",
      "Requirement already satisfied: requests in /Users/alexeyyakushev/Library/Python/3.9/lib/python/site-packages (from torchvision>=0.5->easyocr) (2.31.0)\n",
      "Requirement already satisfied: networkx in /Users/alexeyyakushev/Library/Python/3.9/lib/python/site-packages (from torch->easyocr) (3.2.1)\n",
      "Requirement already satisfied: fsspec in /Users/alexeyyakushev/Library/Python/3.9/lib/python/site-packages (from torch->easyocr) (2023.12.2)\n",
      "Requirement already satisfied: jinja2 in /Users/alexeyyakushev/Library/Python/3.9/lib/python/site-packages (from torch->easyocr) (3.1.3)\n",
      "Requirement already satisfied: sympy in /Users/alexeyyakushev/Library/Python/3.9/lib/python/site-packages (from torch->easyocr) (1.12)\n",
      "Requirement already satisfied: typing-extensions in /Users/alexeyyakushev/Library/Python/3.9/lib/python/site-packages (from torch->easyocr) (4.9.0)\n",
      "Requirement already satisfied: filelock in /Users/alexeyyakushev/Library/Python/3.9/lib/python/site-packages (from torch->easyocr) (3.13.1)\n",
      "Requirement already satisfied: MarkupSafe>=2.0 in /Users/alexeyyakushev/Library/Python/3.9/lib/python/site-packages (from jinja2->torch->easyocr) (2.1.3)\n",
      "Requirement already satisfied: six in /Library/Developer/CommandLineTools/Library/Frameworks/Python3.framework/Versions/3.9/lib/python3.9/site-packages (from python-bidi->easyocr) (1.15.0)\n",
      "Requirement already satisfied: idna<4,>=2.5 in /Users/alexeyyakushev/Library/Python/3.9/lib/python/site-packages (from requests->torchvision>=0.5->easyocr) (3.6)\n",
      "Requirement already satisfied: urllib3<3,>=1.21.1 in /Users/alexeyyakushev/Library/Python/3.9/lib/python/site-packages (from requests->torchvision>=0.5->easyocr) (2.1.0)\n",
      "Requirement already satisfied: certifi>=2017.4.17 in /Users/alexeyyakushev/Library/Python/3.9/lib/python/site-packages (from requests->torchvision>=0.5->easyocr) (2023.11.17)\n",
      "Requirement already satisfied: charset-normalizer<4,>=2 in /Users/alexeyyakushev/Library/Python/3.9/lib/python/site-packages (from requests->torchvision>=0.5->easyocr) (3.3.2)\n",
      "Requirement already satisfied: packaging>=21 in /Users/alexeyyakushev/Library/Python/3.9/lib/python/site-packages (from scikit-image->easyocr) (23.2)\n",
      "Requirement already satisfied: lazy_loader>=0.3 in /Users/alexeyyakushev/Library/Python/3.9/lib/python/site-packages (from scikit-image->easyocr) (0.3)\n",
      "Requirement already satisfied: imageio>=2.27 in /Users/alexeyyakushev/Library/Python/3.9/lib/python/site-packages (from scikit-image->easyocr) (2.33.1)\n",
      "Requirement already satisfied: tifffile>=2022.8.12 in /Users/alexeyyakushev/Library/Python/3.9/lib/python/site-packages (from scikit-image->easyocr) (2023.12.9)\n",
      "Requirement already satisfied: mpmath>=0.19 in /Users/alexeyyakushev/Library/Python/3.9/lib/python/site-packages (from sympy->torch->easyocr) (1.3.0)\n",
      "Installing collected packages: python-bidi, opencv-python-headless, ninja, easyocr\n",
      "Successfully installed easyocr-1.7.1 ninja-1.11.1.1 opencv-python-headless-4.9.0.80 python-bidi-0.4.2\n",
      "\u001b[33mWARNING: You are using pip version 21.2.4; however, version 23.3.2 is available.\n",
      "You should consider upgrading via the '/Library/Developer/CommandLineTools/usr/bin/python3 -m pip install --upgrade pip' command.\u001b[0m\n",
      "Defaulting to user installation because normal site-packages is not writeable\n",
      "Collecting imutils\n",
      "  Downloading imutils-0.5.4.tar.gz (17 kB)\n",
      "Building wheels for collected packages: imutils\n",
      "  Building wheel for imutils (setup.py) ... \u001b[?25ldone\n",
      "\u001b[?25h  Created wheel for imutils: filename=imutils-0.5.4-py3-none-any.whl size=25860 sha256=44e7cb3457a8ed380c685bb9996e9b0c3437b03e7df41ae00738b247a729191c\n",
      "  Stored in directory: /Users/alexeyyakushev/Library/Caches/pip/wheels/4b/a5/2d/4a070a801d3a3d93f033d3ee9728f470f514826e89952df3ea\n",
      "Successfully built imutils\n",
      "Installing collected packages: imutils\n",
      "Successfully installed imutils-0.5.4\n",
      "\u001b[33mWARNING: You are using pip version 21.2.4; however, version 23.3.2 is available.\n",
      "You should consider upgrading via the '/Library/Developer/CommandLineTools/usr/bin/python3 -m pip install --upgrade pip' command.\u001b[0m\n"
     ]
    }
   ],
   "source": [
    "!pip3 install easyocr\n",
    "!pip3 install imutils"
   ]
  },
  {
   "cell_type": "code",
   "execution_count": 3,
   "metadata": {},
   "outputs": [
    {
     "name": "stdout",
     "output_type": "stream",
     "text": [
      "Requirement already satisfied: imutils in /Users/alexeyyakushev/anaconda3/lib/python3.11/site-packages (0.5.4)\n"
     ]
    }
   ],
   "source": [
    "!pip install imutils"
   ]
  },
  {
   "cell_type": "code",
   "execution_count": 4,
   "metadata": {},
   "outputs": [
    {
     "name": "stdout",
     "output_type": "stream",
     "text": [
      "Requirement already satisfied: easyocr in /Users/alexeyyakushev/anaconda3/lib/python3.11/site-packages (1.7.1)\n",
      "Requirement already satisfied: torch in /Users/alexeyyakushev/anaconda3/lib/python3.11/site-packages (from easyocr) (2.1.2)\n",
      "Requirement already satisfied: torchvision>=0.5 in /Users/alexeyyakushev/anaconda3/lib/python3.11/site-packages (from easyocr) (0.16.2)\n",
      "Requirement already satisfied: opencv-python-headless in /Users/alexeyyakushev/anaconda3/lib/python3.11/site-packages (from easyocr) (4.9.0.80)\n",
      "Requirement already satisfied: scipy in /Users/alexeyyakushev/anaconda3/lib/python3.11/site-packages (from easyocr) (1.11.1)\n",
      "Requirement already satisfied: numpy in /Users/alexeyyakushev/anaconda3/lib/python3.11/site-packages (from easyocr) (1.24.3)\n",
      "Requirement already satisfied: Pillow in /Users/alexeyyakushev/anaconda3/lib/python3.11/site-packages (from easyocr) (10.2.0)\n",
      "Requirement already satisfied: scikit-image in /Users/alexeyyakushev/anaconda3/lib/python3.11/site-packages (from easyocr) (0.20.0)\n",
      "Requirement already satisfied: python-bidi in /Users/alexeyyakushev/anaconda3/lib/python3.11/site-packages (from easyocr) (0.4.2)\n",
      "Requirement already satisfied: PyYAML in /Users/alexeyyakushev/anaconda3/lib/python3.11/site-packages (from easyocr) (6.0)\n",
      "Requirement already satisfied: Shapely in /Users/alexeyyakushev/anaconda3/lib/python3.11/site-packages (from easyocr) (2.0.2)\n",
      "Requirement already satisfied: pyclipper in /Users/alexeyyakushev/anaconda3/lib/python3.11/site-packages (from easyocr) (1.3.0.post5)\n",
      "Requirement already satisfied: ninja in /Users/alexeyyakushev/anaconda3/lib/python3.11/site-packages (from easyocr) (1.11.1.1)\n",
      "Requirement already satisfied: requests in /Users/alexeyyakushev/anaconda3/lib/python3.11/site-packages (from torchvision>=0.5->easyocr) (2.31.0)\n",
      "Requirement already satisfied: filelock in /Users/alexeyyakushev/anaconda3/lib/python3.11/site-packages (from torch->easyocr) (3.9.0)\n",
      "Requirement already satisfied: typing-extensions in /Users/alexeyyakushev/anaconda3/lib/python3.11/site-packages (from torch->easyocr) (4.7.1)\n",
      "Requirement already satisfied: sympy in /Users/alexeyyakushev/anaconda3/lib/python3.11/site-packages (from torch->easyocr) (1.11.1)\n",
      "Requirement already satisfied: networkx in /Users/alexeyyakushev/anaconda3/lib/python3.11/site-packages (from torch->easyocr) (3.1)\n",
      "Requirement already satisfied: jinja2 in /Users/alexeyyakushev/anaconda3/lib/python3.11/site-packages (from torch->easyocr) (3.1.2)\n",
      "Requirement already satisfied: fsspec in /Users/alexeyyakushev/anaconda3/lib/python3.11/site-packages (from torch->easyocr) (2023.4.0)\n",
      "Requirement already satisfied: six in /Users/alexeyyakushev/anaconda3/lib/python3.11/site-packages (from python-bidi->easyocr) (1.16.0)\n",
      "Requirement already satisfied: imageio>=2.4.1 in /Users/alexeyyakushev/anaconda3/lib/python3.11/site-packages (from scikit-image->easyocr) (2.31.1)\n",
      "Requirement already satisfied: tifffile>=2019.7.26 in /Users/alexeyyakushev/anaconda3/lib/python3.11/site-packages (from scikit-image->easyocr) (2023.4.12)\n",
      "Requirement already satisfied: PyWavelets>=1.1.1 in /Users/alexeyyakushev/anaconda3/lib/python3.11/site-packages (from scikit-image->easyocr) (1.4.1)\n",
      "Requirement already satisfied: packaging>=20.0 in /Users/alexeyyakushev/anaconda3/lib/python3.11/site-packages (from scikit-image->easyocr) (23.1)\n",
      "Requirement already satisfied: lazy_loader>=0.1 in /Users/alexeyyakushev/anaconda3/lib/python3.11/site-packages (from scikit-image->easyocr) (0.2)\n",
      "Requirement already satisfied: MarkupSafe>=2.0 in /Users/alexeyyakushev/anaconda3/lib/python3.11/site-packages (from jinja2->torch->easyocr) (2.1.1)\n",
      "Requirement already satisfied: charset-normalizer<4,>=2 in /Users/alexeyyakushev/anaconda3/lib/python3.11/site-packages (from requests->torchvision>=0.5->easyocr) (2.0.4)\n",
      "Requirement already satisfied: idna<4,>=2.5 in /Users/alexeyyakushev/anaconda3/lib/python3.11/site-packages (from requests->torchvision>=0.5->easyocr) (3.4)\n",
      "Requirement already satisfied: urllib3<3,>=1.21.1 in /Users/alexeyyakushev/anaconda3/lib/python3.11/site-packages (from requests->torchvision>=0.5->easyocr) (1.26.16)\n",
      "Requirement already satisfied: certifi>=2017.4.17 in /Users/alexeyyakushev/anaconda3/lib/python3.11/site-packages (from requests->torchvision>=0.5->easyocr) (2023.7.22)\n",
      "Requirement already satisfied: mpmath>=0.19 in /Users/alexeyyakushev/anaconda3/lib/python3.11/site-packages (from sympy->torch->easyocr) (1.3.0)\n"
     ]
    }
   ],
   "source": [
    "!pip install easyocr"
   ]
  },
  {
   "cell_type": "code",
   "execution_count": 8,
   "metadata": {},
   "outputs": [
    {
     "name": "stderr",
     "output_type": "stream",
     "text": [
      "/Users/alexeyyakushev/Library/Python/3.9/lib/python/site-packages/urllib3/__init__.py:34: NotOpenSSLWarning: urllib3 v2 only supports OpenSSL 1.1.1+, currently the 'ssl' module is compiled with 'LibreSSL 2.8.3'. See: https://github.com/urllib3/urllib3/issues/3020\n",
      "  warnings.warn(\n"
     ]
    }
   ],
   "source": [
    "import cv2\n",
    "import matplotlib.pyplot as plt\n",
    "import numpy as np\n",
    "import imutils\n",
    "import easyocr"
   ]
  },
  {
   "cell_type": "code",
   "execution_count": null,
   "metadata": {},
   "outputs": [],
   "source": [
    "/Users/alexeyyakushev/Desktop/Запись экрана 2024-01-21 в 16.38.44.mov"
   ]
  },
  {
   "cell_type": "code",
   "execution_count": 11,
   "metadata": {},
   "outputs": [
    {
     "ename": "IndexError",
     "evalue": "list index out of range",
     "output_type": "error",
     "traceback": [
      "\u001b[0;31m---------------------------------------------------------------------------\u001b[0m",
      "\u001b[0;31mIndexError\u001b[0m                                Traceback (most recent call last)",
      "Cell \u001b[0;32mIn[11], line 46\u001b[0m\n\u001b[1;32m     43\u001b[0m reader \u001b[38;5;241m=\u001b[39m easyocr\u001b[38;5;241m.\u001b[39mReader([\u001b[38;5;124m'\u001b[39m\u001b[38;5;124men\u001b[39m\u001b[38;5;124m'\u001b[39m])\n\u001b[1;32m     44\u001b[0m result \u001b[38;5;241m=\u001b[39m reader\u001b[38;5;241m.\u001b[39mreadtext(cropped_image)\n\u001b[0;32m---> 46\u001b[0m txt \u001b[38;5;241m=\u001b[39m \u001b[43mresult\u001b[49m\u001b[43m[\u001b[49m\u001b[38;5;241;43m0\u001b[39;49m\u001b[43m]\u001b[49m[\u001b[38;5;241m-\u001b[39m\u001b[38;5;241m2\u001b[39m]\n\u001b[1;32m     47\u001b[0m font \u001b[38;5;241m=\u001b[39m cv2\u001b[38;5;241m.\u001b[39mFONT_HERSHEY_SIMPLEX\n\u001b[1;32m     48\u001b[0m frame \u001b[38;5;241m=\u001b[39m cv2\u001b[38;5;241m.\u001b[39mputText(frame, text\u001b[38;5;241m=\u001b[39mtxt, org\u001b[38;5;241m=\u001b[39m(approx[\u001b[38;5;241m0\u001b[39m][\u001b[38;5;241m0\u001b[39m][\u001b[38;5;241m0\u001b[39m], approx[\u001b[38;5;241m1\u001b[39m][\u001b[38;5;241m0\u001b[39m][\u001b[38;5;241m1\u001b[39m] \u001b[38;5;241m+\u001b[39m \u001b[38;5;241m60\u001b[39m),\n\u001b[1;32m     49\u001b[0m                     fontFace\u001b[38;5;241m=\u001b[39mfont, fontScale\u001b[38;5;241m=\u001b[39m\u001b[38;5;241m1\u001b[39m, color\u001b[38;5;241m=\u001b[39m(\u001b[38;5;241m0\u001b[39m, \u001b[38;5;241m255\u001b[39m, \u001b[38;5;241m0\u001b[39m), thickness\u001b[38;5;241m=\u001b[39m\u001b[38;5;241m4\u001b[39m, lineType\u001b[38;5;241m=\u001b[39mcv2\u001b[38;5;241m.\u001b[39mLINE_AA)\n",
      "\u001b[0;31mIndexError\u001b[0m: list index out of range"
     ]
    },
    {
     "data": {
      "text/plain": [
       "<Figure size 1000x500 with 0 Axes>"
      ]
     },
     "metadata": {},
     "output_type": "display_data"
    }
   ],
   "source": [
    "import cv2\n",
    "import numpy as np\n",
    "import imutils\n",
    "import easyocr\n",
    "from matplotlib import pyplot as plt\n",
    "\n",
    "# Замените 'video_path' на путь к вашему видеофайлу\n",
    "video_path = '/Users/alexeyyakushev/Desktop/Запись экрана 2024-01-21 в 16.38.44.mov'\n",
    "cap = cv2.VideoCapture(video_path)\n",
    "\n",
    "# Создайте окно для отображения результата\n",
    "plt.figure(figsize=(10, 5))\n",
    "\n",
    "while cap.isOpened():\n",
    "    ret, frame = cap.read()\n",
    "    if not ret:\n",
    "        break\n",
    "\n",
    "    gray = cv2.cvtColor(frame, cv2.COLOR_BGR2GRAY)\n",
    "    bfilter = cv2.bilateralFilter(gray, 110, 170, 170)\n",
    "    edged = cv2.Canny(bfilter, 15, 5)\n",
    "\n",
    "    keypoints = cv2.findContours(edged.copy(), cv2.RETR_TREE, cv2.CHAIN_APPROX_SIMPLE)\n",
    "    contours = imutils.grab_contours(keypoints)\n",
    "    contours = sorted(contours, key=cv2.contourArea, reverse=True)[:10]\n",
    "    location = None\n",
    "    for contour in contours:\n",
    "        approx = cv2.approxPolyDP(contour, 10, True)\n",
    "        if len(approx) == 4:\n",
    "            location = approx\n",
    "            break\n",
    "\n",
    "    if location is not None:\n",
    "        mask = np.zeros(gray.shape, np.uint8)\n",
    "        new_image = cv2.drawContours(mask, [location], 0, 255, -1)\n",
    "        new_image = cv2.bitwise_and(frame, frame, mask=mask)\n",
    "\n",
    "        (x, y) = np.where(mask == 255)\n",
    "        (x1, y1) = (np.min(x), np.min(y))\n",
    "        (x2, y2) = (np.max(x), np.max(y))\n",
    "        cropped_image = gray[x1:x2 + 1, y1:y2 + 1]\n",
    "\n",
    "        reader = easyocr.Reader(['en'])\n",
    "        result = reader.readtext(cropped_image)\n",
    "\n",
    "        txt = result[0][-2]\n",
    "        font = cv2.FONT_HERSHEY_SIMPLEX\n",
    "        frame = cv2.putText(frame, text=txt, org=(approx[0][0][0], approx[1][0][1] + 60),\n",
    "                            fontFace=font, fontScale=1, color=(0, 255, 0), thickness=4, lineType=cv2.LINE_AA)\n",
    "        frame = cv2.rectangle(frame, tuple(approx[0][0]), tuple(approx[2][0]), (0, 255, 0), 3)\n",
    "\n",
    "    # Отображение текущего кадра\n",
    "    plt.imshow(cv2.cvtColor(frame, cv2.COLOR_BGR2RGB))\n",
    "    plt.pause(0.1)\n",
    "    plt.clf()\n",
    "\n",
    "# Закрытие окна после окончания видео\n",
    "plt.close()\n",
    "cap.release()\n",
    "cv2.destroyAllWindows()\n"
   ]
  },
  {
   "cell_type": "code",
   "execution_count": 9,
   "metadata": {},
   "outputs": [
    {
     "name": "stderr",
     "output_type": "stream",
     "text": [
      "[ WARN:0@3948.877] global /Users/xperience/actions-runner/_work/opencv-python/opencv-python/opencv/modules/imgcodecs/src/loadsave.cpp (239) findDecoder imread_('/content/Снимок экрана 2024-01-19 в 16.50.16.png'): can't open/read file: check file path/integrity\n"
     ]
    },
    {
     "ename": "error",
     "evalue": "OpenCV(4.6.0) /Users/xperience/actions-runner/_work/opencv-python/opencv-python/opencv/modules/imgproc/src/color.cpp:182: error: (-215:Assertion failed) !_src.empty() in function 'cvtColor'\n",
     "output_type": "error",
     "traceback": [
      "\u001b[0;31m---------------------------------------------------------------------------\u001b[0m",
      "\u001b[0;31merror\u001b[0m                                     Traceback (most recent call last)",
      "Cell \u001b[0;32mIn[9], line 2\u001b[0m\n\u001b[1;32m      1\u001b[0m img \u001b[38;5;241m=\u001b[39m cv2\u001b[38;5;241m.\u001b[39mimread(\u001b[38;5;124m'\u001b[39m\u001b[38;5;124m/content/Снимок экрана 2024-01-19 в 16.50.16.png\u001b[39m\u001b[38;5;124m'\u001b[39m)\n\u001b[0;32m----> 2\u001b[0m gray \u001b[38;5;241m=\u001b[39m \u001b[43mcv2\u001b[49m\u001b[38;5;241;43m.\u001b[39;49m\u001b[43mcvtColor\u001b[49m\u001b[43m(\u001b[49m\u001b[43mimg\u001b[49m\u001b[43m,\u001b[49m\u001b[43m \u001b[49m\u001b[43mcv2\u001b[49m\u001b[38;5;241;43m.\u001b[39;49m\u001b[43mCOLOR_BGR2GRAY\u001b[49m\u001b[43m)\u001b[49m\n\u001b[1;32m      3\u001b[0m plt\u001b[38;5;241m.\u001b[39mimshow(cv2\u001b[38;5;241m.\u001b[39mcvtColor(gray, cv2\u001b[38;5;241m.\u001b[39mCOLOR_BGR2RGB))\n",
      "\u001b[0;31merror\u001b[0m: OpenCV(4.6.0) /Users/xperience/actions-runner/_work/opencv-python/opencv-python/opencv/modules/imgproc/src/color.cpp:182: error: (-215:Assertion failed) !_src.empty() in function 'cvtColor'\n"
     ]
    }
   ],
   "source": [
    "img = cv2.imread('/content/Снимок экрана 2024-01-19 в 16.50.16.png')\n",
    "gray = cv2.cvtColor(img, cv2.COLOR_BGR2GRAY)\n",
    "plt.imshow(cv2.cvtColor(gray, cv2.COLOR_BGR2RGB))\n",
    "bfilter = cv2.bilateralFilter(gray, 110, 170, 170)\n",
    "edged = cv2.Canny(bfilter, 15, 5)\n",
    "plt.imshow(cv2.cvtColor(edged, cv2.COLOR_BGR2RGB))\n",
    "keypoints = cv2.findContours(edged.copy(), cv2.RETR_TREE, cv2.CHAIN_APPROX_SIMPLE)\n",
    "contours = imutils.grab_contours(keypoints)\n",
    "contours = sorted(contours, key=cv2.contourArea, reverse = True)[:10]\n",
    "location = None\n",
    "for contour in contours:\n",
    "  approx = cv2.approxPolyDP(contour,  10, True)\n",
    "  if len(approx) == 4:\n",
    "    location = approx\n",
    "    break\n",
    "mask = np.zeros(gray.shape, np.uint8)\n",
    "new_image = cv2.drawContours(mask, [location], 0, 255, -1)\n",
    "new_image = cv2.bitwise_and(img, img, mask = mask)\n",
    "plt.imshow(cv2.cvtColor(new_image, cv2.COLOR_BGR2RGB))\n",
    "(x, y) = np.where(mask == 255)\n",
    "(x1, y1) = (np.min(x), np.min(y))\n",
    "(x2, y2) = (np.max(x), np.max(y))\n",
    "cropped_image = gray[x1:x2+1, y1:y2+1]\n",
    "reader = easyocr.Reader(['en'])\n",
    "result = reader.readtext(cropped_image)\n",
    "result\n",
    "txt = result[0][-2]\n",
    "font = cv2.FONT_HERSHEY_SIMPLEX\n",
    "res = cv2.putText(img, text = txt, org=(approx[0][0][0], approx[1][0][1] + 60), fontFace = font, fontScale = 1, color=(0, 255, 0), thickness = 4, lineType = cv2.LINE_AA)\n",
    "res = cv2.rectangle(img, tuple(approx[0][0]), tuple(approx[2][0]), (0, 255, 0), 3)\n",
    "plt.imshow(cv2.cvtColor(res, cv2.COLOR_BGR2RGB))"
   ]
  },
  {
   "cell_type": "code",
   "execution_count": null,
   "metadata": {},
   "outputs": [],
   "source": []
  }
 ],
 "metadata": {
  "kernelspec": {
   "display_name": "Python 3",
   "language": "python",
   "name": "python3"
  },
  "language_info": {
   "codemirror_mode": {
    "name": "ipython",
    "version": 3
   },
   "file_extension": ".py",
   "mimetype": "text/x-python",
   "name": "python",
   "nbconvert_exporter": "python",
   "pygments_lexer": "ipython3",
   "version": "3.9.6"
  }
 },
 "nbformat": 4,
 "nbformat_minor": 2
}
